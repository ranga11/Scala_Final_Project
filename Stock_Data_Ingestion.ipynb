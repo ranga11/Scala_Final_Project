{
 "cells": [
  {
   "cell_type": "code",
   "execution_count": 61,
   "metadata": {},
   "outputs": [],
   "source": [
    "import numpy as np\n",
    "import pandas as pd\n",
    "import csv\n",
    "import quandl\n",
    "\n",
    "quandl.ApiConfig.api_key = 'qDougHxaoRvAxxGe_tPb'\n",
    "\n",
    "#quandl.ApiConfig.api_key = 'zLXJrDEx6nj8WNw7rS2o'\n",
    "#dataset =quandl.get('EOD/AAPL', start_date='2010-01-01', end_date='2017-01-01')"
   ]
  },
  {
   "cell_type": "code",
   "execution_count": 62,
   "metadata": {},
   "outputs": [],
   "source": [
    "dataset =quandl.get('EOD/AAPL', start_date='2010-01-01', end_date='2017-01-01')\n",
    "dframe= pd.DataFrame(dataset)\n",
    "APPL_Stock=dframe.drop(['Dividend','Split','Adj_Open','Adj_High','Adj_Low','Adj_Close','Adj_Volume'],axis= 1)\n",
    "APPL_Stock[\"Name\"]=\"AAPL\"\n",
    "APPL_Stock.to_csv('AAPL_data_train', sep=',', encoding='utf-8')"
   ]
  },
  {
   "cell_type": "code",
   "execution_count": 63,
   "metadata": {},
   "outputs": [],
   "source": [
    "dataset =quandl.get('EOD/AAPL', start_date='2017-01-01', end_date='2018-12-13')\n",
    "dframe= pd.DataFrame(dataset)\n",
    "APPL_Stock=dframe.drop(['Dividend','Split','Adj_Open','Adj_High','Adj_Low','Adj_Close','Adj_Volume'],axis= 1)\n",
    "APPL_Stock[\"Name\"]=\"AAPL\"\n",
    "APPL_Stock.to_csv('AAPL_ToBe', sep=',', encoding='utf-8')"
   ]
  },
  {
   "cell_type": "code",
   "execution_count": 64,
   "metadata": {},
   "outputs": [],
   "source": [
    "dataset =quandl.get('EOD/MSFT', start_date='2010-01-01', end_date='2017-01-01')\n",
    "dframe= pd.DataFrame(dataset)\n",
    "MSFT_Stock=dframe.drop(['Dividend','Split','Adj_Open','Adj_High','Adj_Low','Adj_Close','Adj_Volume'],axis= 1)\n",
    "MSFT_Stock[\"Name\"]=\"MSFT\"\n",
    "MSFT_Stock.to_csv('MSFT_data_train', sep=',', encoding='utf-8')"
   ]
  },
  {
   "cell_type": "code",
   "execution_count": 65,
   "metadata": {},
   "outputs": [],
   "source": [
    "dataset =quandl.get('EOD/MSFT', start_date='2017-01-01', end_date='2018-12-13')\n",
    "dframe= pd.DataFrame(dataset)\n",
    "MSFT_Stock=dframe.drop(['Dividend','Split','Adj_Open','Adj_High','Adj_Low','Adj_Close','Adj_Volume'],axis= 1)\n",
    "MSFT_Stock[\"Name\"]=\"MSFT\"\n",
    "MSFT_Stock.to_csv('MSFT_ToBe', sep=',', encoding='utf-8')"
   ]
  },
  {
   "cell_type": "code",
   "execution_count": null,
   "metadata": {},
   "outputs": [],
   "source": [
    "dataset =quandl.get('EOD/AMZN', start_date='2010-01-01', end_date='2017-01-01')\n",
    "dframe= pd.DataFrame(dataset)\n",
    "AMZN_Stock=dframe.drop(['Dividend','Split','Adj_Open','Adj_High','Adj_Low','Adj_Close','Adj_Volume'],axis= 1)\n",
    "AMZN_Stock[\"Name\"]=\"AMZN\"\n",
    "AMZN_Stock.to_csv('AMZN_data_train', sep='\\t', encoding='utf-8')"
   ]
  },
  {
   "cell_type": "code",
   "execution_count": null,
   "metadata": {},
   "outputs": [],
   "source": [
    "dataset =quandl.get('EOD/AMZN', start_date='2017-01-01', end_date='2018-12-13')\n",
    "dframe= pd.DataFrame(dataset)\n",
    "AMZN_Stock=dframe.drop(['Dividend','Split','Adj_Open','Adj_High','Adj_Low','Adj_Close','Adj_Volume'],axis= 1)\n",
    "AMZN_Stock[\"Name\"]=\"AMZN\"\n",
    "AMZN_Stock.to_csv('AMZN_ToBe', sep='\\t', encoding='utf-8')"
   ]
  },
  {
   "cell_type": "code",
   "execution_count": null,
   "metadata": {},
   "outputs": [],
   "source": [
    "dataset =quandl.get('EOD/FB', start_date='2010-01-01', end_date='2017-01-01')\n",
    "dframe= pd.DataFrame(dataset)\n",
    "FB_Stock=dframe.drop(['Dividend','Split','Adj_Open','Adj_High','Adj_Low','Adj_Close','Adj_Volume'],axis= 1)\n",
    "FB_Stock[\"Name\"]=\"FB\"\n",
    "FB_Stock.to_csv('FB_data_train', sep='\\t', encoding='utf-8')"
   ]
  },
  {
   "cell_type": "code",
   "execution_count": null,
   "metadata": {},
   "outputs": [],
   "source": [
    "dataset =quandl.get('EOD/FB', start_date='2017-01-01', end_date='2018-12-13')\n",
    "dframe= pd.DataFrame(dataset)\n",
    "FB_Stock=dframe.drop(['Dividend','Split','Adj_Open','Adj_High','Adj_Low','Adj_Close','Adj_Volume'],axis= 1)\n",
    "FB_Stock[\"Name\"]=\"FB\"\n",
    "FB_Stock.to_csv('FB_ToBe', sep='\\t', encoding='utf-8')"
   ]
  },
  {
   "cell_type": "code",
   "execution_count": null,
   "metadata": {},
   "outputs": [],
   "source": [
    "dataset =quandl.get('EOD/GOOGl', start_date='2010-01-01', end_date='2017-01-01')\n",
    "dframe= pd.DataFrame(dataset)\n",
    "GOOGL_Stock=dframe.drop(['Dividend','Split','Adj_Open','Adj_High','Adj_Low','Adj_Close','Adj_Volume'],axis= 1)\n",
    "GOOGL_Stock[\"Name\"]=\"GOOGL\"\n",
    "GOOGL_Stock.to_csv('GOOGL_data_train', sep='\\t', encoding='utf-8')"
   ]
  },
  {
   "cell_type": "code",
   "execution_count": null,
   "metadata": {},
   "outputs": [],
   "source": [
    "dataset =quandl.get('EOD/GOOGl', start_date='2017-01-01', end_date='2018-12-13')\n",
    "dframe= pd.DataFrame(dataset)\n",
    "GOOGL_Stock=dframe.drop(['Dividend','Split','Adj_Open','Adj_High','Adj_Low','Adj_Close','Adj_Volume'],axis= 1)\n",
    "GOOGL_Stock[\"Name\"]=\"GOOGL\"\n",
    "GOOGL_Stock.to_csv('GOOGL_ToBe', sep='\\t', encoding='utf-8')"
   ]
  }
 ],
 "metadata": {
  "kernelspec": {
   "display_name": "Python 3",
   "language": "python",
   "name": "python3"
  },
  "language_info": {
   "codemirror_mode": {
    "name": "ipython",
    "version": 3
   },
   "file_extension": ".py",
   "mimetype": "text/x-python",
   "name": "python",
   "nbconvert_exporter": "python",
   "pygments_lexer": "ipython3",
   "version": "3.6.3"
  }
 },
 "nbformat": 4,
 "nbformat_minor": 2
}
